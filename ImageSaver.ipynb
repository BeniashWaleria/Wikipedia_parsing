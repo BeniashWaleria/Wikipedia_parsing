{
 "cells": [
  {
   "cell_type": "code",
   "execution_count": null,
   "metadata": {},
   "outputs": [],
   "source": [
    "import itertools\n",
    "import os\n",
    "import pathlib\n",
    "from os import path\n",
    "import requests\n",
    "from bs4 import BeautifulSoup\n",
    "import re\n",
    "import pandas as pd\n",
    "\n",
    "class_name = re.compile('mw-category.*')\n",
    "href_name=re.compile('.*?\\.jpg',re.IGNORECASE)\n",
    "folder = r\"C:\\Users\\User\\Desktop\\automobiles\""
   ]
  },
  {
   "cell_type": "code",
   "execution_count": null,
   "metadata": {},
   "outputs": [],
   "source": [
    "def get_links(url):\n",
    "    links = []\n",
    "    names = []\n",
    "    response = requests.get(url)\n",
    "    soup = BeautifulSoup(response.text, 'lxml')\n",
    "    categories_list = soup.find(class_=class_name)\n",
    "    categories = categories_list.find_all('a', href=True)\n",
    "    for category in categories:\n",
    "        links.append('https://it.wikipedia.org/' + category.get('href'))\n",
    "        names.append(category.get('title'))\n",
    "    return dict(zip(names, links))"
   ]
  },
  {
   "cell_type": "code",
   "execution_count": null,
   "metadata": {},
   "outputs": [],
   "source": [
    "array_categories = get_links('https://it.wikipedia.org/wiki/Categoria:Automobili_per_marca')\n",
    "for k, v in dict(itertools.islice(array_categories.items(), 20)).items():\n",
    "    sub_elems = get_links(v)\n",
    "    for m, n in dict(itertools.islice(sub_elems.items(), 20)).items():\n",
    "        if 'Categoria' not in n:\n",
    "            response = requests.get(n)\n",
    "            soup = BeautifulSoup(response.text, 'html.parser')\n",
    "            image = soup.find(\"a\", href=href_name)\n",
    "\n",
    "            first_level=os.path.join(folder, k.replace(\":\", \" \"),re.sub(\"[:\\/\\\"]\",\" \",m))\n",
    "            os.makedirs(first_level,exist_ok=True)\n",
    "            url = \"https:\" +  image.find(\"img\")['src']\n",
    "            Picture_request = requests.get(url)\n",
    "            if Picture_request.status_code == 200:\n",
    "                with open(os.path.join(first_level,re.sub(\"[:\\/\\\"]\",\" \",m)+\".jpg\"),\"wb\")as f:\n",
    "                    f.write(Picture_request.content)"
   ]
  }
 ],
 "metadata": {
  "kernelspec": {
   "display_name": "Python 3",
   "language": "python",
   "name": "python3"
  },
  "language_info": {
   "codemirror_mode": {
    "name": "ipython",
    "version": 3
   },
   "file_extension": ".py",
   "mimetype": "text/x-python",
   "name": "python",
   "nbconvert_exporter": "python",
   "pygments_lexer": "ipython3",
   "version": "3.7.4"
  }
 },
 "nbformat": 4,
 "nbformat_minor": 2
}
